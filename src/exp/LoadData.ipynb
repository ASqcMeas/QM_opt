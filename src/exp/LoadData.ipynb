{
 "cells": [
  {
   "cell_type": "markdown",
   "id": "be7e99d4",
   "metadata": {},
   "source": [
    "# Import modules"
   ]
  },
  {
   "cell_type": "code",
   "execution_count": 1,
   "id": "5b4b543a",
   "metadata": {},
   "outputs": [
    {
     "name": "stdout",
     "output_type": "stream",
     "text": [
      "2024-05-10 15:34:54,800 - qm - INFO     - Starting session: 206a6c11-8e9a-45c6-a4cd-a9dcf2a88296\n"
     ]
    }
   ],
   "source": [
    "import numpy as np\n",
    "import matplotlib.pyplot as plt\n",
    "import xarray as xr\n",
    "import netCDF4 as nc\n",
    "from exp.rofreq_sweep_power_dep import *\n"
   ]
  },
  {
   "cell_type": "markdown",
   "id": "bdb391ce",
   "metadata": {},
   "source": [
    "# Load .nc file "
   ]
  },
  {
   "cell_type": "code",
   "execution_count": 9,
   "id": "60d89c21",
   "metadata": {},
   "outputs": [
    {
     "name": "stdout",
     "output_type": "stream",
     "text": [
      "<xarray.Dataset> Size: 214kB\n",
      "Dimensions:    (mixer: 2, amp_ratio: 44, frequency: 300)\n",
      "Coordinates:\n",
      "  * mixer      (mixer) <U1 8B 'I' 'Q'\n",
      "  * frequency  (frequency) float64 2kB -15.0 -14.9 -14.8 ... 14.7 14.8 14.9\n",
      "  * amp_ratio  (amp_ratio) float64 352B 0.01 0.01125 0.01266 ... 1.409 1.585\n",
      "Data variables:\n",
      "    q0_ro      (mixer, amp_ratio, frequency) float64 211kB ...\n",
      "Attributes:\n",
      "    ro_LO:    6070000000\n",
      "    ro_IF:    -156490000\n"
     ]
    }
   ],
   "source": [
    "save_dir = r\"C:\\Users\\admin\\SynologyDrive\\09 Data\\Fridge Data\\Qubit\\20240510_DR4_5Q4C_0411#6\"  # change to .npz folder\n",
    "save_name = \"power_dep_resonator_20240510_1544\"  # change to .npz name\n",
    "\n",
    "save_path = f\"{save_dir}\\{save_name}\"\n",
    "load_path =  f\"{save_path}.nc\"\n",
    "\n",
    "dataset = xr.open_dataset(load_path)\n",
    "\n",
    "print(dataset)"
   ]
  }
 ],
 "metadata": {
  "kernelspec": {
   "display_name": "Python 3 (ipykernel)",
   "language": "python",
   "name": "python3"
  },
  "language_info": {
   "codemirror_mode": {
    "name": "ipython",
    "version": 3
   },
   "file_extension": ".py",
   "mimetype": "text/x-python",
   "name": "python",
   "nbconvert_exporter": "python",
   "pygments_lexer": "ipython3",
   "version": "3.10.13"
  },
  "toc": {
   "base_numbering": 1,
   "nav_menu": {},
   "number_sections": true,
   "sideBar": true,
   "skip_h1_title": false,
   "title_cell": "Table of Contents",
   "title_sidebar": "Contents",
   "toc_cell": false,
   "toc_position": {},
   "toc_section_display": true,
   "toc_window_display": false
  }
 },
 "nbformat": 4,
 "nbformat_minor": 5
}
